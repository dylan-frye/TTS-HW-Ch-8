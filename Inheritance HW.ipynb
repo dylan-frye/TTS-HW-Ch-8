{
 "cells": [
  {
   "cell_type": "markdown",
   "id": "6dadba0a",
   "metadata": {},
   "source": [
    "# Inheritance HW"
   ]
  },
  {
   "cell_type": "code",
   "execution_count": 51,
   "id": "8be1e754",
   "metadata": {},
   "outputs": [
    {
     "name": "stdout",
     "output_type": "stream",
     "text": [
      "Heraldo Memelli 8135627 2 100 80\n",
      "80\n",
      "Name: Memelli, Heraldo\n",
      "ID: 8135627\n",
      "Grade: E\n"
     ]
    }
   ],
   "source": [
    "class Person:\n",
    "    def __init__(self, firstName, lastName, idNumber):\n",
    "        self.firstName = firstName\n",
    "        self.lastName = lastName\n",
    "        self.idNumber = idNumber\n",
    "    def printPerson(self):\n",
    "        print(\"Name:\", self.lastName + \",\", self.firstName)\n",
    "        print(\"ID:\", self.idNumber)\n",
    "\n",
    "class Student(Person):\n",
    "\n",
    "    def __init__(self, firstName, lastName, idNum, scores):\n",
    "        Person.__init__(self, firstName, lastName, idNum)\n",
    "        self.scores = scores\n",
    "\n",
    "    def calculate(self):\n",
    "        a = sum(scores) / len(scores)\n",
    "        if 90 <= a <= 100:\n",
    "            return \"O\"\n",
    "        elif 80 <= a < 90:\n",
    "            return \"E\"\n",
    "        elif 70 <= a < 90:\n",
    "            return \"A\"\n",
    "        elif 55 <= a < 70:\n",
    "            return \"P\"\n",
    "        elif 40 <= a < 55:\n",
    "            return \"D\"\n",
    "        else:\n",
    "            return \"T\"\n",
    "\n",
    "line = input().split()\n",
    "firstName = line[0]\n",
    "lastName = line[1]\n",
    "idNum = line[2]\n",
    "\n",
    "scores = list( map(int, input().split()) )\n",
    "s = Student(firstName, lastName, idNum, scores)\n",
    "s.printPerson()\n",
    "\n",
    "print(\"Grade:\", s.calculate())"
   ]
  },
  {
   "cell_type": "code",
   "execution_count": null,
   "id": "88b4abb7",
   "metadata": {},
   "outputs": [],
   "source": []
  }
 ],
 "metadata": {
  "kernelspec": {
   "display_name": "Python 3 (ipykernel)",
   "language": "python",
   "name": "python3"
  },
  "language_info": {
   "codemirror_mode": {
    "name": "ipython",
    "version": 3
   },
   "file_extension": ".py",
   "mimetype": "text/x-python",
   "name": "python",
   "nbconvert_exporter": "python",
   "pygments_lexer": "ipython3",
   "version": "3.9.12"
  }
 },
 "nbformat": 4,
 "nbformat_minor": 5
}
